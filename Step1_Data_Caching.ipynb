{
 "cells": [
  {
   "cell_type": "code",
   "execution_count": 7,
   "id": "67a547c8",
   "metadata": {},
   "outputs": [],
   "source": [
    "import requests, re, pandas as pd\n",
    "import time, os, json\n",
    "from bs4 import BeautifulSoup\n",
    "\n",
    "TOTAL_RESTAURANT = 1000\n",
    "base_url = 'https://www.tripadvisor.com/RestaurantSearch'\n",
    "headers = {\n",
    "    'User-Agent':  'Mozilla/5.0 (Windows NT 10.0; Win64; x64) AppleWebKit/537.36 (KHTML, like Gecko) Chrome/106.0.0.0 Safari/537.36',\n",
    "}\n",
    "\n",
    "for idx in range(0, TOTAL_RESTAURANT, 30):\n",
    "    if not os.path.exists('cache/rest_list/NY_'+str(idx)+'.html'):\n",
    "        parameter_dictionary = {'Action':'PAGE', 'ajax':'1', 'availSearchEnabled':'false', 'sortOrder':'popularity', \n",
    "                                'geo':'60763', 'itags':'10591', 'geobroaden':'false', 'o':'a'+str(idx)}\n",
    "        response = requests.get(url, parameter_dictionary, headers=headers)\n",
    "        f = open('cache/rest_list/NY_'+str(idx)+'.html', 'w', encoding='utf-8')\n",
    "        f.write(response.text)\n",
    "        f.close()\n",
    "        time.sleep(3)\n"
   ]
  },
  {
   "cell_type": "code",
   "execution_count": 33,
   "id": "dc87b14a",
   "metadata": {},
   "outputs": [],
   "source": [
    "rest_names = []\n",
    "rest_urls = []\n",
    "for idx in range(0, TOTAL_RESTAURANT, 30):\n",
    "    f = open('cache/rest_list/NY_'+str(idx)+'.html', 'r', encoding='utf-8')\n",
    "    html = f.read()\n",
    "    soup = BeautifulSoup(html)\n",
    "    for rest in soup.body.find_all('a', class_='Lwqic Cj b'):\n",
    "        rest_names.append(rest.text)\n",
    "        rest_urls.append(\"https://www.tripadvisor.com\"+str(rest).split('\"')[3])\n",
    "    f.close()"
   ]
  },
  {
   "cell_type": "code",
   "execution_count": null,
   "id": "300d3b3c",
   "metadata": {},
   "outputs": [],
   "source": [
    "for url in rest_urls:\n",
    "    file_name = url.split('-Reviews-')[1].split('-New_York_City')[0]+'.html'\n",
    "    if not os.path.exists('cache/restaurants/'+ file_name):\n",
    "        response = requests.get(url, parameter_dictionary, headers=headers)\n",
    "        f = open('cache/restaurants/'+ file_name, 'w', encoding='utf-8')\n",
    "        f.write(response.text)\n",
    "        f.close()\n",
    "        time.sleep(3)"
   ]
  },
  {
   "cell_type": "code",
   "execution_count": null,
   "id": "7a30b33e",
   "metadata": {},
   "outputs": [],
   "source": []
  }
 ],
 "metadata": {
  "kernelspec": {
   "display_name": "Python 3",
   "language": "python",
   "name": "python3"
  },
  "language_info": {
   "codemirror_mode": {
    "name": "ipython",
    "version": 3
   },
   "file_extension": ".py",
   "mimetype": "text/x-python",
   "name": "python",
   "nbconvert_exporter": "python",
   "pygments_lexer": "ipython3",
   "version": "3.8.8"
  }
 },
 "nbformat": 4,
 "nbformat_minor": 5
}
