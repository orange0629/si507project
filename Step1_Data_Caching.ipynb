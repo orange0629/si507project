{
 "cells": [
  {
   "cell_type": "code",
   "execution_count": null,
   "id": "67a547c8",
   "metadata": {},
   "outputs": [],
   "source": [
    "import requests, re, pandas as pd\n",
    "import time\n",
    "from bs4 import BeautifulSoup\n",
    "\n",
    "url = ''\n",
    "    \n",
    "try:\n",
    "    headers = {\n",
    "        'User-Agent':  'Mozilla/5.0 (Windows NT 10.0; Win64; x64) AppleWebKit/537.36 (KHTML, like Gecko) Chrome/106.0.0.0 Safari/537.36',\n",
    "    }\n",
    "    html = requests.get(url, headers=headers).text\n",
    "    soup = BeautifulSoup(html)\n",
    "\n",
    "\n",
    "    soup.body.main.find_all('div', class_='LbPSX')[0].find_all('svg',class_='UctUV d H0'):"
   ]
  }
 ],
 "metadata": {
  "kernelspec": {
   "display_name": "Python 3",
   "language": "python",
   "name": "python3"
  },
  "language_info": {
   "codemirror_mode": {
    "name": "ipython",
    "version": 3
   },
   "file_extension": ".py",
   "mimetype": "text/x-python",
   "name": "python",
   "nbconvert_exporter": "python",
   "pygments_lexer": "ipython3",
   "version": "3.8.8"
  }
 },
 "nbformat": 4,
 "nbformat_minor": 5
}
