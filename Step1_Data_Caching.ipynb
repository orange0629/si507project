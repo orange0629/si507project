{
 "cells": [
  {
   "cell_type": "code",
   "execution_count": 70,
   "id": "67a547c8",
   "metadata": {},
   "outputs": [],
   "source": [
    "import requests, re, pandas as pd\n",
    "import time, os, json\n",
    "from bs4 import BeautifulSoup\n",
    "\n",
    "TOTAL_RESTAURANT = 1000\n",
    "base_url = 'https://www.tripadvisor.com/RestaurantSearch'\n",
    "headers = {\n",
    "    'User-Agent':  'Mozilla/5.0 (Windows NT 10.0; Win64; x64) AppleWebKit/537.36 (KHTML, like Gecko) Chrome/106.0.0.0 Safari/537.36',\n",
    "}\n",
    "\n",
    "REST_LIST_DIR = 'cache/rest_list'\n",
    "REST_DIR = 'cache/restaurants'\n",
    "\n",
    "\n",
    "if not os.path.exists(REST_LIST_DIR):\n",
    "    os.makedirs(REST_LIST_DIR)\n",
    "\n",
    "for idx in range(0, TOTAL_RESTAURANT, 30):\n",
    "    if not os.path.exists(REST_LIST_DIR+'/NY_'+str(idx)+'.html'):\n",
    "        parameter_dictionary = {'Action':'PAGE', 'ajax':'1', 'availSearchEnabled':'false', 'sortOrder':'popularity', \n",
    "                                'geo':'60763', 'itags':'10591', 'geobroaden':'false', 'o':'a'+str(idx)}\n",
    "        response = requests.get(url, parameter_dictionary, headers=headers)\n",
    "        f = open(REST_LIST_DIR+'/NY_'+str(idx)+'.html', 'w', encoding='utf-8')\n",
    "        f.write(response.text)\n",
    "        f.close()\n",
    "        time.sleep(3)\n"
   ]
  },
  {
   "cell_type": "code",
   "execution_count": 71,
   "id": "09ec0f43",
   "metadata": {},
   "outputs": [],
   "source": [
    "rest_names = []\n",
    "rest_urls = []\n",
    "for idx in range(0, TOTAL_RESTAURANT, 30):\n",
    "    f = open('cache/rest_list/NY_'+str(idx)+'.html', 'r', encoding='utf-8')\n",
    "    html = f.read()\n",
    "    soup = BeautifulSoup(html)\n",
    "    for rest in soup.body.find_all('a', class_='Lwqic Cj b'):\n",
    "        rest_names.append(rest.text)\n",
    "        rest_urls.append(\"https://www.tripadvisor.com\"+str(rest).split('\"')[3])\n",
    "    f.close()"
   ]
  },
  {
   "cell_type": "code",
   "execution_count": 72,
   "id": "e7f17523",
   "metadata": {},
   "outputs": [],
   "source": [
    "if not os.path.exists(REST_DIR):\n",
    "    os.makedirs(REST_DIR)\n",
    "    \n",
    "for url in rest_urls:\n",
    "    file_name = url.split('-Reviews-')[1].split('-New_York_City')[0]+'.html'\n",
    "    if not os.path.exists(REST_DIR+ '/'+ file_name):\n",
    "        response = requests.get(url, parameter_dictionary, headers=headers)\n",
    "        f = open(REST_DIR+ '/'+ file_name, 'w', encoding='utf-8')\n",
    "        f.write(response.text)\n",
    "        f.close()\n",
    "        time.sleep(3)"
   ]
  },
  {
   "cell_type": "code",
   "execution_count": 73,
   "id": "b9d94556",
   "metadata": {},
   "outputs": [
    {
     "ename": "SyntaxError",
     "evalue": "invalid syntax (<ipython-input-73-7a8b89bc8058>, line 2)",
     "output_type": "error",
     "traceback": [
      "\u001b[1;36m  File \u001b[1;32m\"<ipython-input-73-7a8b89bc8058>\"\u001b[1;36m, line \u001b[1;32m2\u001b[0m\n\u001b[1;33m    f = open(REST_DIR + '/' rest_name, 'r', encoding='utf-8')\u001b[0m\n\u001b[1;37m                            ^\u001b[0m\n\u001b[1;31mSyntaxError\u001b[0m\u001b[1;31m:\u001b[0m invalid syntax\n"
     ]
    }
   ],
   "source": [
    "for rest_name in os.listdir(REST_DIR):\n",
    "    f = open(REST_DIR + '/' + rest_name, 'r', encoding='utf-8')\n",
    "    html = f.read()\n",
    "    soup = BeautifulSoup(html)\n",
    "    f.close()\n",
    "    \n",
    "    "
   ]
  },
  {
   "cell_type": "code",
   "execution_count": null,
   "id": "1f8b6c5a",
   "metadata": {},
   "outputs": [],
   "source": []
  }
 ],
 "metadata": {
  "kernelspec": {
   "display_name": "Python 3",
   "language": "python",
   "name": "python3"
  },
  "language_info": {
   "codemirror_mode": {
    "name": "ipython",
    "version": 3
   },
   "file_extension": ".py",
   "mimetype": "text/x-python",
   "name": "python",
   "nbconvert_exporter": "python",
   "pygments_lexer": "ipython3",
   "version": "3.8.8"
  }
 },
 "nbformat": 4,
 "nbformat_minor": 5
}
