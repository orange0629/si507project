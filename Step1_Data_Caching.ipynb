{
 "cells": [
  {
   "cell_type": "code",
   "execution_count": 7,
   "id": "67a547c8",
   "metadata": {},
   "outputs": [],
   "source": [
    "import requests, re, pandas as pd\n",
    "import time, os, json\n",
    "from bs4 import BeautifulSoup\n",
    "\n",
    "TOTAL_RESTAURANT = 1000\n",
    "base_url = 'https://www.tripadvisor.com/RestaurantSearch'\n",
    "headers = {\n",
    "    'User-Agent':  'Mozilla/5.0 (Windows NT 10.0; Win64; x64) AppleWebKit/537.36 (KHTML, like Gecko) Chrome/106.0.0.0 Safari/537.36',\n",
    "}\n",
    "\n",
    "for idx in range(0, TOTAL_RESTAURANT, 30):\n",
    "    if not os.path.exists('rest_list/NY_'+str(idx)+'.html'):\n",
    "        parameter_dictionary = {'Action':'PAGE', 'ajax':'1', 'availSearchEnabled':'false', 'sortOrder':'popularity', \n",
    "                                'geo':'60763', 'itags':'10591', 'geobroaden':'false', 'o':'a'+str(idx)}\n",
    "        response = requests.get(url, parameter_dictionary, headers=headers)\n",
    "        f = open('rest_list/NY_'+str(idx)+'.html', 'w',encoding='utf-8')\n",
    "        f.write(response.text)\n",
    "        f.close()\n",
    "        time.sleep(3)\n"
   ]
  },
  {
   "cell_type": "code",
   "execution_count": null,
   "id": "515489de",
   "metadata": {},
   "outputs": [],
   "source": []
  }
 ],
 "metadata": {
  "kernelspec": {
   "display_name": "Python 3",
   "language": "python",
   "name": "python3"
  },
  "language_info": {
   "codemirror_mode": {
    "name": "ipython",
    "version": 3
   },
   "file_extension": ".py",
   "mimetype": "text/x-python",
   "name": "python",
   "nbconvert_exporter": "python",
   "pygments_lexer": "ipython3",
   "version": "3.8.8"
  }
 },
 "nbformat": 4,
 "nbformat_minor": 5
}
